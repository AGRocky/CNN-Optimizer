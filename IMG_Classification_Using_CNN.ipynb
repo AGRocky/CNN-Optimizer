{
 "cells": [
  {
   "cell_type": "markdown",
   "id": "aaedac2d-beec-474f-9f67-964806ca44a7",
   "metadata": {},
   "source": [
    "# Image Classification Using CNN"
   ]
  },
  {
   "cell_type": "code",
   "execution_count": null,
   "id": "8a08884c-1baa-451c-98f1-67ac7679d69d",
   "metadata": {},
   "outputs": [],
   "source": [
    "# Importing necessary libraries\n",
    "import numpy as np\n",
    "import matplotlib.pyplot as plt\n",
    "import tensorflow as tf  "
   ]
  },
  {
   "cell_type": "code",
   "execution_count": null,
   "id": "5e5709fb-ad75-4002-8b07-44c7e0752153",
   "metadata": {},
   "outputs": [],
   "source": [
    "# Loading a dataset which is already present in tensorflow library\n",
    "(X_train, y_train), (X_test, y_test) = tf.keras.datasets.cifar10.load_data()"
   ]
  },
  {
   "cell_type": "code",
   "execution_count": null,
   "id": "cd6a902d-e3a2-481d-92c5-bc39fedad0c1",
   "metadata": {},
   "outputs": [],
   "source": [
    "X_train.shape, X_test.shape"
   ]
  },
  {
   "cell_type": "code",
   "execution_count": null,
   "id": "21a7387f-4dad-47ca-be8c-d73fe78cb450",
   "metadata": {},
   "outputs": [],
   "source": [
    "# Getting the label value and converting into array from 2d array\n",
    "y_train[:3]"
   ]
  },
  {
   "cell_type": "code",
   "execution_count": null,
   "id": "9f4dc065-d942-4265-a895-a12223da786c",
   "metadata": {},
   "outputs": [],
   "source": [
    "y_train = y_train.reshape(-1,)\n",
    "y_train[:3]"
   ]
  },
  {
   "cell_type": "code",
   "execution_count": null,
   "id": "8750d337-222a-440a-81f1-37dd9ce10fd7",
   "metadata": {},
   "outputs": [],
   "source": [
    "# Giving the labels appropriate name based on the image\n",
    "classes = ['airplane', 'automoile','bird','cat','deer','dog','frog','horse','ship','truck']"
   ]
  },
  {
   "cell_type": "code",
   "execution_count": null,
   "id": "46ec0882-5966-4cbb-ab8e-260270df5378",
   "metadata": {},
   "outputs": [],
   "source": [
    "# Function to plot any image from training data\n",
    "def plot_sample(X, y, index):\n",
    "    plt.figure(figsize=(15,2))\n",
    "    plt.imshow(X[index])\n",
    "    plt.xlabel(classes[y[index]])"
   ]
  },
  {
   "cell_type": "code",
   "execution_count": null,
   "id": "0c89d3ac-8b40-4d53-934c-0be0e85a88d7",
   "metadata": {},
   "outputs": [],
   "source": [
    "plot_sample(X_train, y_train, 2), plot_sample(X_train, y_train, 0)"
   ]
  },
  {
   "cell_type": "code",
   "execution_count": null,
   "id": "a1a05ebd-0130-4f91-9b31-8e015d65700b",
   "metadata": {},
   "outputs": [],
   "source": [
    "# Normalizing the data by scaling them\n",
    "X_train = X_train/255\n",
    "X_test = X_test/255"
   ]
  },
  {
   "cell_type": "code",
   "execution_count": null,
   "id": "50a1b1ea-77c7-4575-9a6b-8b149b655316",
   "metadata": {},
   "outputs": [],
   "source": [
    "X_train[0]"
   ]
  },
  {
   "cell_type": "code",
   "execution_count": null,
   "id": "919aebd9-5ddb-4a8d-862a-f45d69d69e1e",
   "metadata": {},
   "outputs": [],
   "source": [
    "# Creating a CNN model\n",
    "cnn = tf.keras.Sequential([\n",
    "    #CNN\n",
    "    tf.keras.layers.Conv2D(filters=32, kernel_size=(3,3), activation='relu', input_shape=(32,32,3)),\n",
    "    tf.keras.layers.MaxPooling2D((2,2)),\n",
    "    \n",
    "    tf.keras.layers.Conv2D(filters=32, kernel_size=(3,3), activation='relu', input_shape=(32,32,3)),\n",
    "    tf.keras.layers.MaxPooling2D((2,2)),\n",
    "    \n",
    "    # Dense layer\n",
    "    tf.keras.layers.Flatten(),\n",
    "    tf.keras.layers.Dense(64, activation='relu'),\n",
    "    tf.keras.layers.Dense(10, activation='softmax')\n",
    "\n",
    "\n",
    "])"
   ]
  },
  {
   "cell_type": "code",
   "execution_count": null,
   "id": "dab51fc2-e57d-4436-8bc2-e8c8164a9a67",
   "metadata": {},
   "outputs": [],
   "source": [
    "# Compling a model\n",
    "cnn.compile(optimizer='adam',\n",
    "           loss='sparse_categorical_crossentropy',\n",
    "           metrics=['accuracy'])"
   ]
  },
  {
   "cell_type": "code",
   "execution_count": null,
   "id": "e0ec29c7-1914-4b01-98a5-7ebcebb1b00d",
   "metadata": {},
   "outputs": [],
   "source": [
    "# Fit the model\n",
    "cnn.fit(X_train, y_train, epochs=10)"
   ]
  },
  {
   "cell_type": "code",
   "execution_count": null,
   "id": "2a110393-e37e-48f3-ab02-5d912b2659ff",
   "metadata": {},
   "outputs": [],
   "source": [
    "# Evaluate the model\n",
    "cnn.evaluate(X_test, y_test)"
   ]
  },
  {
   "cell_type": "code",
   "execution_count": null,
   "id": "392b3491-ad46-4210-8286-29eff913df40",
   "metadata": {},
   "outputs": [],
   "source": [
    "# Reshaping the y_test\n",
    "y_test = y_test.reshape(-1,)\n",
    "y_test[:3]"
   ]
  },
  {
   "cell_type": "code",
   "execution_count": null,
   "id": "875baaf2-c127-4249-bac4-8d2c79ac28c4",
   "metadata": {},
   "outputs": [],
   "source": [
    "# Plotting y_test\n",
    "plot_sample(X_test, y_test, 5)"
   ]
  },
  {
   "cell_type": "code",
   "execution_count": null,
   "id": "49046ab2-e31b-4f57-85c2-053cc9aa9017",
   "metadata": {},
   "outputs": [],
   "source": [
    "# Predicting our model\n",
    "y_pred = cnn.predict(X_test)"
   ]
  },
  {
   "cell_type": "code",
   "execution_count": null,
   "id": "e232674c-51fd-47fa-95c4-fbd546bbb283",
   "metadata": {},
   "outputs": [],
   "source": [
    "y_pred[:2]"
   ]
  },
  {
   "cell_type": "code",
   "execution_count": null,
   "id": "dab1025f-2106-48cd-a053-2bd87c58123d",
   "metadata": {},
   "outputs": [],
   "source": [
    "# Using list comprension for all all y_pred elements using argmax()\n",
    "y_classes = [np.argmax(element) for element in y_pred]\n",
    "y_classes[:5]"
   ]
  },
  {
   "cell_type": "code",
   "execution_count": null,
   "id": "38dd6ed9-be2b-4646-9067-29f7cf60224c",
   "metadata": {},
   "outputs": [],
   "source": [
    "y_test[:5]"
   ]
  },
  {
   "cell_type": "code",
   "execution_count": null,
   "id": "4c901395-62e8-4ab8-b732-ab453c82765f",
   "metadata": {},
   "outputs": [],
   "source": [
    "# Testing our model\n",
    "plot_sample(X_test, y_test, 6)"
   ]
  },
  {
   "cell_type": "code",
   "execution_count": null,
   "id": "45753229-89a3-4e39-b235-e6eb85cef01e",
   "metadata": {},
   "outputs": [],
   "source": [
    "classes[y_classes[6]]"
   ]
  },
  {
   "cell_type": "code",
   "execution_count": null,
   "id": "bce91f6b-d809-4f5e-8f37-a01d78ba17f0",
   "metadata": {},
   "outputs": [],
   "source": [
    "# Printing a CLassification report\n",
    "from sklearn.metrics import confusion_matrix, classification_report\n",
    "\n",
    "print(classification_report(y_test,y_classes))"
   ]
  },
  {
   "cell_type": "markdown",
   "id": "76c59bd2-cd4c-4c6f-80d2-73ea200f27b9",
   "metadata": {},
   "source": [
    "## Observation: \n",
    "    The CNN model is predicting images with 70% accuracy although it could be improved  by tweaking the layers in the model"
   ]
  }
 ],
 "metadata": {
  "kernelspec": {
   "display_name": "Python 3 (ipykernel)",
   "language": "python",
   "name": "python3"
  },
  "language_info": {
   "codemirror_mode": {
    "name": "ipython",
    "version": 3
   },
   "file_extension": ".py",
   "mimetype": "text/x-python",
   "name": "python",
   "nbconvert_exporter": "python",
   "pygments_lexer": "ipython3",
   "version": "3.9.9"
  }
 },
 "nbformat": 4,
 "nbformat_minor": 5
}
